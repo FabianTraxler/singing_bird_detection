{
 "cells": [
  {
   "cell_type": "markdown",
   "metadata": {
    "deletable": false,
    "editable": false,
    "nbgrader": {
     "cell_type": "markdown",
     "checksum": "2963ab992934def8b2b5141e8e66dd5d",
     "grade": false,
     "grade_id": "cell-1789592e36ddfa40",
     "locked": true,
     "schema_version": 3,
     "solution": false,
     "task": false
    }
   },
   "source": [
    "Before you turn this assignment in, make sure everything runs as expected. First, **restart the kernel** (in the menubar, select Kernel$\\rightarrow$Restart) and then **run all cells** (in the menubar, select Cell$\\rightarrow$Run All).\n",
    "\n",
    "Make sure you fill in any place that says \"YOUR ANSWER HERE\" or `YOUR CODE HERE` and remove the `raise NotImplementedError()` lines. \n",
    "\n",
    "Code blocks starting with a `# tests ...` comment provide unit tests which have to run without\n",
    "errors in order to get full points. Be aware that there might be further 'secret' tests to check correct\n",
    "implementation! I.e. the provided unit tests are necessary but not sufficient for full points!\n",
    "\n",
    "\n",
    "Please add your name and student ID below:"
   ]
  },
  {
   "cell_type": "code",
   "execution_count": 1,
   "metadata": {},
   "outputs": [],
   "source": [
    "NAME = \"Fabian Traxler\"\n",
    "STUDENT_ID = \"01553958\""
   ]
  },
  {
   "cell_type": "code",
   "execution_count": 2,
   "metadata": {
    "deletable": false,
    "editable": false,
    "nbgrader": {
     "cell_type": "code",
     "checksum": "87e61747975b5cb7726b0908fe2688bc",
     "grade": true,
     "grade_id": "student_id_test",
     "locked": true,
     "points": 0,
     "schema_version": 3,
     "solution": false,
     "task": false
    }
   },
   "outputs": [],
   "source": [
    "assert len(NAME) > 0\n",
    "assert len(STUDENT_ID) > 0"
   ]
  },
  {
   "cell_type": "markdown",
   "metadata": {
    "deletable": false,
    "editable": false,
    "nbgrader": {
     "cell_type": "markdown",
     "checksum": "ce7444d8bdbb0b3abbbcaf00001783ef",
     "grade": false,
     "grade_id": "cell-b1240f8e37763543",
     "locked": true,
     "schema_version": 3,
     "solution": false,
     "task": false
    }
   },
   "source": [
    "\n",
    "# Intelligent Audio and Music Analysis Assignment 0\n",
    "\n",
    "The main purpose of this assignment is to get you familiarized with the infrastructure and workflow.  \n",
    "\n",
    "## Task 1: Import numpy\n",
    "\n",
    "Load the python math library [numpy](https://numpy.org/doc/stable/) into namespace variable `np`.\n"
   ]
  },
  {
   "cell_type": "code",
   "execution_count": 3,
   "metadata": {
    "deletable": false,
    "nbgrader": {
     "cell_type": "code",
     "checksum": "a26d3f822cbc68d3a62e92033b7662be",
     "grade": false,
     "grade_id": "import-numpy",
     "locked": false,
     "schema_version": 3,
     "solution": true,
     "task": false
    }
   },
   "outputs": [],
   "source": [
    "# load the python math library numpy into a local namespace variable called \"np\"\n",
    "# this is achieved using the \n",
    "#\n",
    "# import <lib> as <name>\n",
    "#\n",
    "# syntax\n",
    "\n",
    "# YOUR CODE HERE\n",
    "import numpy as np"
   ]
  },
  {
   "cell_type": "code",
   "execution_count": 4,
   "metadata": {
    "deletable": false,
    "editable": false,
    "nbgrader": {
     "cell_type": "code",
     "checksum": "3020c112def52b1b65e5eab74a546d73",
     "grade": true,
     "grade_id": "import-numpy-test",
     "locked": true,
     "points": 1,
     "schema_version": 3,
     "solution": false,
     "task": false
    }
   },
   "outputs": [
    {
     "name": "stdout",
     "output_type": "stream",
     "text": [
      "All tests successful!\n"
     ]
    }
   ],
   "source": [
    "# test if numpy has been loaded successfully\n",
    "\n",
    "np.version.version\n",
    "\n",
    "print('All tests successful!')"
   ]
  },
  {
   "cell_type": "markdown",
   "metadata": {
    "deletable": false,
    "editable": false,
    "nbgrader": {
     "cell_type": "markdown",
     "checksum": "590f67c7c0c42baee072312bc420a8f6",
     "grade": false,
     "grade_id": "cell-1ada59ce5a3061d6",
     "locked": true,
     "schema_version": 3,
     "solution": false,
     "task": false
    }
   },
   "source": [
    "## Task 2: Create a Matrix\n",
    "\n",
    "Create a matrix ([ndarray](https://numpy.org/doc/stable/reference/generated/numpy.ndarray.html)) with size 4x4 which contains random values and store it in a variable named `x`."
   ]
  },
  {
   "cell_type": "code",
   "execution_count": 5,
   "metadata": {
    "deletable": false,
    "nbgrader": {
     "cell_type": "code",
     "checksum": "f8c7fa731fadcce6497668bd9e58c2c2",
     "grade": false,
     "grade_id": "create-matrix",
     "locked": false,
     "schema_version": 3,
     "solution": true,
     "task": false
    }
   },
   "outputs": [
    {
     "name": "stdout",
     "output_type": "stream",
     "text": [
      "x = [[0.35009395 0.59017319 0.70232656 0.53517294]\n",
      " [0.6695761  0.98766938 0.23680238 0.481775  ]\n",
      " [0.33253566 0.26225061 0.15223324 0.01792852]\n",
      " [0.14920659 0.52574414 0.0244324  0.47055614]]\n"
     ]
    }
   ],
   "source": [
    "# numpy has a module called \"random\", use the rand function. \n",
    "# See documentation at: \n",
    "# https://numpy.org/doc/stable/reference/random/generated/numpy.random.rand.html\n",
    "\n",
    "# YOUR CODE HERE\n",
    "x = np.random.rand(4,4)\n",
    "\n",
    "print(\"x = {}\".format(x))"
   ]
  },
  {
   "cell_type": "code",
   "execution_count": 6,
   "metadata": {
    "deletable": false,
    "editable": false,
    "nbgrader": {
     "cell_type": "code",
     "checksum": "86133d776130a483288ff5d9a9c3f992",
     "grade": true,
     "grade_id": "create-matrix-test",
     "locked": true,
     "points": 1,
     "schema_version": 3,
     "solution": false,
     "task": false
    }
   },
   "outputs": [
    {
     "name": "stdout",
     "output_type": "stream",
     "text": [
      "All tests successful!\n"
     ]
    }
   ],
   "source": [
    "# test x for properties:\n",
    "\n",
    "assert x.shape == (4, 4)\n",
    "assert all([0 <= ex <= 1 for ex in x.flatten()])\n",
    "\n",
    "print('All tests successful!')"
   ]
  },
  {
   "cell_type": "code",
   "execution_count": 7,
   "metadata": {
    "deletable": false,
    "editable": false,
    "nbgrader": {
     "cell_type": "code",
     "checksum": "1c4e350be31476eb554653001219b2a5",
     "grade": true,
     "grade_id": "create-matrix-exception-test",
     "locked": true,
     "points": 1,
     "schema_version": 3,
     "solution": false,
     "task": false
    }
   },
   "outputs": [
    {
     "name": "stdout",
     "output_type": "stream",
     "text": [
      "All tests successful!\n"
     ]
    }
   ],
   "source": [
    "# test for exception: \n",
    "\n",
    "try:\n",
    "    x[10, 10]\n",
    "except IndexError:\n",
    "    pass\n",
    "else:       \n",
    "    raise AssertionError('did not raise ValueError')\n",
    "    \n",
    "print('All tests successful!')"
   ]
  },
  {
   "cell_type": "markdown",
   "metadata": {
    "deletable": false,
    "editable": false,
    "nbgrader": {
     "cell_type": "markdown",
     "checksum": "f5d69223d50fd2a1e38f20eeb9835b37",
     "grade": false,
     "grade_id": "cell-88b80c78742b45b1",
     "locked": true,
     "schema_version": 3,
     "solution": false,
     "task": false
    }
   },
   "source": [
    "## Task 3: Elementwise Matrix Operations\n",
    "Calculate the *elementwise* square of `x` into a new variable named `y`."
   ]
  },
  {
   "cell_type": "code",
   "execution_count": 8,
   "metadata": {
    "deletable": false,
    "nbgrader": {
     "cell_type": "code",
     "checksum": "a1d30f6a30c0ca2d5e5c2ef8f6ba46c0",
     "grade": false,
     "grade_id": "multiply-matrix",
     "locked": false,
     "schema_version": 3,
     "solution": true,
     "task": false
    }
   },
   "outputs": [],
   "source": [
    "# Arrays can be used as matrices, thus we can choose between matrix multiplication and elementwise multiplication.\n",
    "# https://numpy.org/doc/stable/reference/generated/numpy.matmul.html\n",
    "# https://numpy.org/doc/stable/reference/generated/numpy.multiply.html\n",
    "\n",
    "# YOUR CODE HERE\n",
    "y = np.multiply(x,x)"
   ]
  },
  {
   "cell_type": "code",
   "execution_count": 9,
   "metadata": {
    "deletable": false,
    "editable": false,
    "nbgrader": {
     "cell_type": "code",
     "checksum": "ddb564034003f40a9163cb5e1ba85e2d",
     "grade": true,
     "grade_id": "cell-01f26ea77ab64c5e",
     "locked": true,
     "points": 1,
     "schema_version": 3,
     "solution": false,
     "task": false
    }
   },
   "outputs": [
    {
     "name": "stdout",
     "output_type": "stream",
     "text": [
      "All tests successful!\n"
     ]
    }
   ],
   "source": [
    "# Test shape of y\n",
    "# Note: for full points, values of y must also be correct.\n",
    "\n",
    "assert y.shape == (4, 4)\n",
    "\n",
    "\n",
    "print('All tests successful!')"
   ]
  },
  {
   "cell_type": "markdown",
   "metadata": {
    "deletable": false,
    "editable": false,
    "nbgrader": {
     "cell_type": "markdown",
     "checksum": "1d158f20bc7d7f6b31c9ac22ada0019c",
     "grade": false,
     "grade_id": "cell-6f00bad28c80d8e8",
     "locked": true,
     "schema_version": 3,
     "solution": false,
     "task": false
    }
   },
   "source": [
    "## Task 4: Freeform Answers\n",
    "\n",
    "Sometimes you will find questions that require a textual answer. Use the markdown input field below to submit your answer.\n",
    " \n",
    "Answer the following question:\n",
    "\n",
    "**What is your background or experience with programming, audio processing, and machine learning?**\n"
   ]
  },
  {
   "cell_type": "markdown",
   "metadata": {
    "deletable": false,
    "nbgrader": {
     "cell_type": "markdown",
     "checksum": "243f25d34cc0a87d3098ffe22cd7a1cd",
     "grade": true,
     "grade_id": "cell-33dfd1f4d9e317f6",
     "locked": false,
     "points": 1,
     "schema_version": 3,
     "solution": true,
     "task": false
    }
   },
   "source": [
    "Started programming during my Bachelor Program and have done some private projects as well as some projects during Internships. I have no prior Knowledge in audio processing. I first familiarized myself with machine learning in my Bachelor Program and have since gained way more experience during an internship and the Master Programm Data Science."
   ]
  },
  {
   "cell_type": "code",
   "execution_count": null,
   "metadata": {},
   "outputs": [],
   "source": []
  }
 ],
 "metadata": {
  "kernelspec": {
   "display_name": "Python 3",
   "language": "python",
   "name": "python3"
  },
  "language_info": {
   "codemirror_mode": {
    "name": "ipython",
    "version": 3
   },
   "file_extension": ".py",
   "mimetype": "text/x-python",
   "name": "python",
   "nbconvert_exporter": "python",
   "pygments_lexer": "ipython3",
   "version": "3.8.5"
  }
 },
 "nbformat": 4,
 "nbformat_minor": 4
}
