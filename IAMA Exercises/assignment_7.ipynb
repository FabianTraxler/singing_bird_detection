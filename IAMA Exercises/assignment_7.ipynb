{
 "cells": [
  {
   "cell_type": "markdown",
   "metadata": {
    "deletable": false,
    "editable": false,
    "nbgrader": {
     "cell_type": "markdown",
     "checksum": "dff6ed10e94740d13d3fcf728765ecea",
     "grade": false,
     "grade_id": "cell-2e8dabd8897e1fea",
     "locked": true,
     "schema_version": 3,
     "solution": false,
     "task": false
    }
   },
   "source": [
    "Before you turn this assignment in, make sure everything runs as expected. First, **restart the kernel** (in the menubar, select Kernel$\\rightarrow$Restart) and then **run all cells** (in the menubar, select Cell$\\rightarrow$Run All).\n",
    "\n",
    "Make sure you fill in any place that says \"YOUR ANSWER HERE\" or `YOUR CODE HERE` and remove the `raise NotImplementedError()` lines. \n",
    "\n",
    "Code blocks starting with a `# tests` comment provide unit tests which have to run without errors in order to get full points. Be aware that there might be further 'secret' tests to check correct implementation! I.e. the provided unit tests are necessary but not sufficient for full points!\n",
    "\n",
    "You are always welcome to add **additional plots, tests, or debug outputs**.\n",
    "However, make sure to: **1) not break the automated tests**, and **2) switch off any excessive debug output** when you submit your notebook!\n",
    "\n",
    "Please add your name and student ID below:"
   ]
  },
  {
   "cell_type": "code",
   "execution_count": 1,
   "metadata": {},
   "outputs": [],
   "source": [
    "NAME = \"Fabian Traxler\"\n",
    "STUDENT_ID = \"1553958\""
   ]
  },
  {
   "cell_type": "code",
   "execution_count": 2,
   "metadata": {
    "deletable": false,
    "editable": false,
    "nbgrader": {
     "cell_type": "code",
     "checksum": "9f7fdc89f976fb4ac999a0ede1705805",
     "grade": true,
     "grade_id": "name_and_id_test",
     "locked": true,
     "points": 0,
     "schema_version": 3,
     "solution": false,
     "task": false
    }
   },
   "outputs": [],
   "source": [
    "assert len(NAME) > 0, \"Enter your name!\"\n",
    "assert len(STUDENT_ID) > 0, \"Enter your student ID!\""
   ]
  },
  {
   "cell_type": "markdown",
   "metadata": {
    "deletable": false,
    "editable": false,
    "nbgrader": {
     "cell_type": "markdown",
     "checksum": "8d12ae8c7300b0f8ec200d51789c06b7",
     "grade": false,
     "grade_id": "cell-af22af3c51ef2859",
     "locked": true,
     "schema_version": 3,
     "solution": false,
     "task": false
    }
   },
   "source": [
    "# Intelligent Audio and Music Analysis Assignment 7\n",
    "\n",
    "This assignment accounts for the last 50 points of the 3rd and last assignment block (100 points total)\n",
    "\n",
    "Assignment is mainly **free form**, the goal is to apply what has been practiced so far. For implementing assignment 7, best practice is to follow the code structures from previous assignments and reuse as much code as possible (this makes it easier for us to review it). You can use any libraries, however, we recommend you use: madmom, librosa, pyTorch, etc. (the libraries we have used so far).\n",
    "\n",
    "\n",
    "### GPU Support\n",
    "Our JupyterHub, unfortunately, does not yet provide GPU support. Nevertheless, this assignemnt can be run as-is on JupyterHub, however training of the neural network will take a long time.\n",
    "\n",
    "In order to speed up training if you are in a hurry, you can run this notebook on any local machine with GPU and cuda support, or alternatively use infrastructure like [Google colab](https://colab.research.google.com/) and drive, if you have a google account.\n",
    "\n",
    "Simply upload your solved notebook and necessary other files like output model file back to JupyterHub for your submission."
   ]
  },
  {
   "cell_type": "code",
   "execution_count": 3,
   "metadata": {
    "deletable": false,
    "editable": false,
    "nbgrader": {
     "cell_type": "code",
     "checksum": "d75a438863f082f309afc97f01eb64a9",
     "grade": false,
     "grade_id": "cell-a7ed23be263a52e5",
     "locked": true,
     "schema_version": 3,
     "solution": false,
     "task": false
    }
   },
   "outputs": [
    {
     "name": "stdout",
     "output_type": "stream",
     "text": [
      "=======================\n",
      "NOT running in colab...\n",
      "=======================\n"
     ]
    }
   ],
   "source": [
    "import os\n",
    "# This code block enables this notebook to run on google colab.\n",
    "try:\n",
    "    from google.colab import drive\n",
    "    print('Running in colab...\\n===================')\n",
    "    COLAB = True\n",
    "    !pip install madmom torch==1.4.0 torchvision==0.5.0 librosa --upgrade\n",
    "    print('Installed dependencies!\\n=======================')\n",
    "\n",
    "    if not os.path.exists('data'):\n",
    "        print('Downloading data...\\n===================')\n",
    "        !mkdir data\n",
    "        !cd data\n",
    "        !wget https://zenodo.org/record/45739/files/TUT-acoustic-scenes-2016-development.audio.1.zip?download=1\n",
    "        !wget https://zenodo.org/record/45739/files/TUT-acoustic-scenes-2016-development.audio.2.zip?download=1\n",
    "        !wget https://zenodo.org/record/45739/files/TUT-acoustic-scenes-2016-development.audio.3.zip?download=1\n",
    "        !wget https://zenodo.org/record/45739/files/TUT-acoustic-scenes-2016-development.audio.4.zip?download=1\n",
    "        !wget https://zenodo.org/record/45739/files/TUT-acoustic-scenes-2016-development.audio.5.zip?download=1\n",
    "        !wget https://zenodo.org/record/45739/files/TUT-acoustic-scenes-2016-development.audio.6.zip?download=1\n",
    "        !wget https://zenodo.org/record/45739/files/TUT-acoustic-scenes-2016-development.audio.7.zip?download=1\n",
    "        !wget https://zenodo.org/record/45739/files/TUT-acoustic-scenes-2016-development.audio.8.zip?download=1\n",
    "        !wget https://zenodo.org/record/45739/files/TUT-acoustic-scenes-2016-development.doc.zip?download=1\n",
    "        !wget https://zenodo.org/record/45739/files/TUT-acoustic-scenes-2016-development.error.zip?download=1\n",
    "        !wget https://zenodo.org/record/45739/files/TUT-acoustic-scenes-2016-development.meta.zip?download=1\n",
    "            \n",
    "        !wget https://zenodo.org/record/165995/files/TUT-acoustic-scenes-2016-evaluation.audio.1.zip?download=1\n",
    "        !wget https://zenodo.org/record/165995/files/TUT-acoustic-scenes-2016-evaluation.audio.2.zip?download=1\n",
    "        !wget https://zenodo.org/record/165995/files/TUT-acoustic-scenes-2016-evaluation.audio.3.zip?download=1\n",
    "        !wget https://zenodo.org/record/165995/files/TUT-acoustic-scenes-2016-evaluation.doc.zip?download=1\n",
    "        !wget https://zenodo.org/record/165995/files/TUT-acoustic-scenes-2016-evaluation.meta.zip?download=1\n",
    "            \n",
    "        !for file in *.*; do mv $file ${file%?download=1}; done\n",
    "        \n",
    "        !unzip \"*.zip\"\n",
    "        !rm *.zip\n",
    "        !cd ..\n",
    "\n",
    "    print('===================\\nMake sure you activated GPU support: Edit->Notebook settings->Hardware acceleration->GPU\\n==================')\n",
    "except:\n",
    "    print('=======================\\nNOT running in colab...\\n=======================')\n",
    "    COLAB = False"
   ]
  },
  {
   "cell_type": "markdown",
   "metadata": {
    "deletable": false,
    "editable": false,
    "nbgrader": {
     "cell_type": "markdown",
     "checksum": "9a4abaaf92b06b06f05e89d3e9c1ce9d",
     "grade": false,
     "grade_id": "cell-fe37cd78135067a7",
     "locked": true,
     "schema_version": 3,
     "solution": false,
     "task": false
    }
   },
   "source": [
    "## Audio Scene Classification\n",
    "\n",
    "Your task is to implement a solution to an auditory scene detection challenge, precisely the DCASE 2016 Acoustic Scene Classification task. Details about the challenge are provided on the [task website](http://www.cs.tut.fi/sgn/arg/dcase2016/task-acoustic-scene-classification).\n",
    "1. You are **free in the strategy that you apply** here and can also reuse and modify your implementation previous assignments, e.g., by modifying the architecture to handle clips of length 30 seconds.\n",
    "2. **Follow the given evaluation strategies of the task**, in particular wrt. development and evaluation datasets and cross validation settings.\n",
    "3. Consider **reducing the amount of data** in a reasonable way, if necessary.\n",
    "4. **Compare your results** to the numbers reported on the task website and comment on you main findings.\n",
    "\n",
    "Remark: The goal is not to outperform the state of the art, but to experiment with a classification task in the general audio domain. Therefore, you can apply your existing solutions from the music domain and reflect upon the capabilities and limitations of your approach.\n",
    "\n",
    "The overall goal of this assignment is to implement the method in an elegant way and present your implementation in this notebook:\n",
    "1. **Illustrate your chosen architecture** e.g. by printing the individual layers and the shapes of the forward function if you choose a neural network approach (as we have done in previous assignments).\n",
    "2. **Use plots** to showcase features and evaluation results.\n",
    "3. Output your **final performance** and set it into context.\n",
    "\n",
    "The rough distribution of points is as follows:\n",
    "* 10 Points data preprocessing and data handling\n",
    "* 10 Points machine learning architecture (e.g. neural network and data loader)\n",
    "* 10 Points training method and evaluation\n",
    "* 10 Points results and conclusion\n",
    "* 10 Points overall presentation throughout the notebook\n"
   ]
  },
  {
   "cell_type": "markdown",
   "metadata": {
    "deletable": false,
    "editable": false,
    "nbgrader": {
     "cell_type": "markdown",
     "checksum": "a0c9d2cdc979e441c1d027387e1bef6e",
     "grade": false,
     "grade_id": "cell-5b4af1581b02da49",
     "locked": true,
     "schema_version": 3,
     "solution": false,
     "task": false
    }
   },
   "source": [
    "# Task 1: Data Processing (10 Points)\n",
    "\n",
    "If you work on JupyterHub, find the audiofiles in the shared folder as indicated in the cell below.\n",
    "Think about **reasonable features** to use and extract them for the audio files.\n",
    "The DCASE dataset is already split into **a development and an evaluation** set. The idea is to only use the evaluation set **once** at the very end when you are confident about your trained system.\n",
    "Only use the development set to draw your train/valid/test splits from.\n",
    "The dataset comes with **predefined splits** for four-fold cross-validation. Feel free to use your own training setup, but read and **follow the guidelines** that come in the documentation of the dataset!\n",
    "\n",
    "**Note**: Check the readme files in the dataset folder for more details!!"
   ]
  },
  {
   "cell_type": "code",
   "execution_count": 4,
   "metadata": {},
   "outputs": [
    {
     "name": "stdout",
     "output_type": "stream",
     "text": [
      "Total number of development audio files: 1170\n",
      "Total number of evaluation audio files: 390\n"
     ]
    }
   ],
   "source": [
    "import os\n",
    "import numpy as np\n",
    "\n",
    "np.random.seed(1234)\n",
    "\n",
    "# get dataset path\n",
    "dataset_path = os.path.join(os.environ['HOME'], 'shared', 'data', 'assignment_7')\n",
    "if os.path.exists('data'):\n",
    "    dataset_path = 'data'\n",
    "\n",
    "development_path = os.path.join(dataset_path, 'TUT-acoustic-scenes-2016-development')\n",
    "evaluation_path = os.path.join(dataset_path, 'TUT-acoustic-scenes-2016-evaluation')\n",
    "\n",
    "development_audio_path = os.path.join(development_path, 'audio')\n",
    "development_annotation_file = os.path.join(development_path, 'meta.txt')\n",
    "development_error_file = os.path.join(development_path, 'error.txt')\n",
    "split_definition_path = os.path.join(development_path, 'evaluation_setup')\n",
    "\n",
    "evaluation_annotation_file = os.path.join(evaluation_path, 'meta.txt')\n",
    "evaluation_audio_path = os.path.join(evaluation_path, 'audio')\n",
    "\n",
    "data_file_clip_info = os.path.join(dataset_path, 'clip_info_final.csv')\n",
    "data_file_annotations = os.path.join(dataset_path, 'annotations_final.csv')\n",
    "\n",
    "# collect list of audio files:\n",
    "development_audio_files = [af for af in os.listdir(development_audio_path) if af.endswith('.wav')]\n",
    "evaluation_audio_files = [af for af in os.listdir(evaluation_audio_path) if af.endswith('.wav')]\n",
    "\n",
    "dev_audio_total_count = len(development_audio_files)\n",
    "eval_audio_total_count = len(evaluation_audio_files)\n",
    "\n",
    "print(f'Total number of development audio files: {dev_audio_total_count}')\n",
    "print(f'Total number of evaluation audio files: {eval_audio_total_count}')"
   ]
  },
  {
   "cell_type": "markdown",
   "metadata": {
    "deletable": false,
    "editable": false,
    "nbgrader": {
     "cell_type": "markdown",
     "checksum": "a401c2630c9e7cd0523c54ba0f51b153",
     "grade": false,
     "grade_id": "cell-fc521b5d76d8b1e0",
     "locked": true,
     "schema_version": 3,
     "solution": false,
     "task": false
    }
   },
   "source": [
    "### 1.1 Implementation"
   ]
  },
  {
   "cell_type": "code",
   "execution_count": 5,
   "metadata": {},
   "outputs": [
    {
     "name": "stdout",
     "output_type": "stream",
     "text": [
      "a050_60_90.wav\n",
      "audio/a001_0_30.wav\tresidential_area\n",
      "\n"
     ]
    }
   ],
   "source": [
    "# Data Exploration \n",
    "## Check how the audio files and the annotations look like\n",
    "\n",
    "audio_sample = development_audio_files[0]\n",
    "print(audio_sample)\n",
    "\n",
    "with open(development_annotation_file) as f:\n",
    "    annotation_file = f.readline()\n",
    "print(annotation_file)"
   ]
  },
  {
   "cell_type": "markdown",
   "metadata": {},
   "source": [
    "As we can see the `development_audio_files` contain the filenames of every audio file and the `development_annotation_file` is a tab seperated file which contains every annotation for every audio file with the `audio` folder prefixed. This means we will add the `audio` folder to the audio_files in oder to evaluate the results in the end"
   ]
  },
  {
   "cell_type": "markdown",
   "metadata": {},
   "source": [
    "#### Feature Extraction\n",
    "\n",
    "In order to extract features a very similar approach to the one used in the baseline is used. Therefore, first the MFCC of the audio samples is extracted using a Frame size of 1764 frames (=40ms) and 882 Frame Hop Size (=20ms). Different to the baseline approach a Hann window was used as well as 96 Mel-Bands and 96 MFCCs.\n",
    "Like in the baseline also the Delta (first derivative) and the acceleration (2nd derivative) is also calculated to generate even more expressive features."
   ]
  },
  {
   "cell_type": "code",
   "execution_count": 6,
   "metadata": {
    "deletable": false,
    "nbgrader": {
     "cell_type": "code",
     "checksum": "8e9c20719ee0bf6510faa714c6246527",
     "grade": false,
     "grade_id": "cell-d27d427e4f69f428",
     "locked": false,
     "schema_version": 3,
     "solution": true,
     "task": false
    }
   },
   "outputs": [],
   "source": [
    "# Put your data handling code here. \n",
    "# You can add additional cells below this one for structuring the notebook.\n",
    "# Feel free to add markdown cells / plots / tests / etc. if it helps your presentation.\n",
    "\n",
    "# YOUR CODE HERE\n",
    "import warnings\n",
    "warnings.simplefilter(\"ignore\")\n",
    "import librosa\n",
    "import time\n",
    "import scipy\n",
    "import pickle\n",
    "\n",
    "## Default Parameters\n",
    "FRAME_SIZE = 1764\n",
    "HOP_SIZE = 882\n",
    "NUM_MEL_BANDS = 48\n",
    "HANN_WINDOW = scipy.signal.hann\n",
    "\n",
    "SAMPLE_RATE = 44100\n",
    "\n",
    "\n",
    "def process_audio_files(file_list, \n",
    "                        path_to_files=development_audio_path, \n",
    "                        sample_rate=SAMPLE_RATE,\n",
    "                        frame_size=FRAME_SIZE, \n",
    "                        hop_size=HOP_SIZE, \n",
    "                        num_mel_bands=NUM_MEL_BANDS,\n",
    "                        window=HANN_WINDOW):\n",
    "    \"\"\"\n",
    "    Process the Audio files and extract a MFCC for every file\n",
    "    \n",
    "    Args:\n",
    "        file_list (list): File names\n",
    "    \n",
    "    Return:\n",
    "        np.ndarray: MFCCs for every audio file in file_list\n",
    "        np.ndarray: filenames with 'audio/' prefixed\n",
    "    \"\"\"\n",
    "    file_names = []\n",
    "    features = []\n",
    "    \n",
    "    # dataset recording specifications\n",
    "    audio_len = 30\n",
    "    \n",
    "    \n",
    "    for i, filename in enumerate(file_list):\n",
    "        print(\"{}/{} files\".format(i, len(file_list)), end=\"\\r\")\n",
    "        try:\n",
    "            filepath = os.path.join(path_to_files, filename)\n",
    "            audio_stream, sr = librosa.load(filepath, sr=sample_rate, duration=audio_len)\n",
    "            \n",
    "            melgram = librosa.feature.melspectrogram(y=audio_stream, \n",
    "                                                     sr=sample_rate, \n",
    "                                                     hop_length=hop_size,\n",
    "                                                     n_fft=frame_size, \n",
    "                                                     n_mels=num_mel_bands,\n",
    "                                                     window=window(frame_size), center=True)\n",
    "            log_melgram = librosa.power_to_db(melgram**2, ref=1)\n",
    "            mfcc = librosa.feature.mfcc(S=log_melgram, n_mfcc=num_mel_bands)\n",
    "            mfcc_delta = librosa.feature.delta(log_melgram)\n",
    "            mfcc_acc = librosa.feature.delta(log_melgram, order=2)\n",
    "            \n",
    "            feature = feature_matrix = np.vstack((mfcc, mfcc_delta, mfcc_acc))\n",
    "            \n",
    "            file_names.append(\"audio/\"+filename)\n",
    "            features.append(feature)\n",
    "        except Exception as e:\n",
    "            print(e)\n",
    "            print(\"Corrupt Audio File >>> Skipped File {}\".format(filename))\n",
    "    \n",
    "    return np.asarray(features), np.asarray(file_names)"
   ]
  },
  {
   "cell_type": "code",
   "execution_count": 7,
   "metadata": {},
   "outputs": [],
   "source": [
    "from sklearn.preprocessing import OneHotEncoder\n",
    "def get_annotations(file_names, annotation_file, encoder=None):\n",
    "    \"\"\"\n",
    "    Get all annotations for the provided filename and return an array of annotations with the same index as the file_names\n",
    "    \n",
    "    Args:\n",
    "        file_names (list): Filenames for which to extract Annotations\n",
    "        annotation_file (str): Path to the annotation_file, which is tab_seperated\n",
    "    \n",
    "    Return:\n",
    "        np.ndarray: Array containing all the annotations as strings\n",
    "    \"\"\"\n",
    "    with open(annotation_file) as f:\n",
    "        annotation_list = f.read().split(\"\\n\")\n",
    "    \n",
    "    annotation_list = [ annotation.split(\"\\t\") for annotation in annotation_list if annotation != \"\"]\n",
    "    annotation_dict = dict(annotation_list)\n",
    "    tags = set(annotation_dict.values())\n",
    "\n",
    "    annotations = [ [annotation_dict[file_name]] for file_name in file_names ]\n",
    "    if not encoder:\n",
    "        encoder = OneHotEncoder()\n",
    "    annotations = encoder.fit_transform(annotations)\n",
    "    \n",
    "    return encoder, np.asarray(annotations.todense())\n",
    "\n"
   ]
  },
  {
   "cell_type": "code",
   "execution_count": 8,
   "metadata": {},
   "outputs": [],
   "source": [
    "load = True # possibility to load extracted features to speed up notebook\n",
    "\n",
    "if load:\n",
    "    with open(\"features.pickle\", \"rb\") as f:\n",
    "        features = pickle.load(f)\n",
    "    with open(\"filenames.pickle\", \"rb\") as f:\n",
    "        file_names = pickle.load(f)\n",
    "    with open(\"annotations.pickle\", \"rb\") as f:\n",
    "        annotations = pickle.load(f)\n",
    "    with open(\"encoder.pickle\", \"rb\") as f:\n",
    "        encoder = pickle.load(f)\n",
    "else:\n",
    "    start = time.time()\n",
    "    features, file_names = process_audio_files(development_audio_files)\n",
    "    print(\"\\nFeature Extraction took {}s\".format(time.time() - start))\n",
    "    with open(\"features.pickle\", \"wb\") as f:\n",
    "        pickle.dump(features, f)\n",
    "    with open(\"filenames.pickle\", \"wb\") as f:\n",
    "        pickle.dump(file_names,f)\n",
    "        \n",
    "    encoder, annotations = get_annotations(file_names, development_annotation_file)\n",
    "    with open(\"annotations.pickle\", \"wb\") as f:\n",
    "        pickle.dump(annotations, f)\n",
    "    with open(\"encoder.pickle\", \"wb\") as f:\n",
    "        pickle.dump(encoder, f)"
   ]
  },
  {
   "cell_type": "markdown",
   "metadata": {},
   "source": [
    "#### Feature Visualizations\n",
    "\n",
    "In the cell below we visualize the features extracted from the audio samples. Therefore we use the same method as in previous assignments to show a sectrogram. In this case we visualize the MFCCs as well as the delta and the acceleration (dela-2) for two samples from different classes. ´"
   ]
  },
  {
   "cell_type": "code",
   "execution_count": 9,
   "metadata": {},
   "outputs": [
    {
     "name": "stdout",
     "output_type": "stream",
     "text": [
      "Feature Shape >>>  (144, 1501)\n",
      "File name >>>  audio/a050_60_90.wav\n",
      "Annotation >>>  [['grocery_store']]\n"
     ]
    },
    {
     "data": {
      "image/png": "[encoded data removed]",
      "text/plain": [
       "<Figure size 1440x504 with 12 Axes>"
      ]
     },
     "metadata": {
      "needs_background": "light"
     },
     "output_type": "display_data"
    }
   ],
   "source": [
    "## Tests\n",
    "import matplotlib.pyplot as plt\n",
    "import librosa.display\n",
    "\n",
    "sample_feature = features[0]\n",
    "print(\"Feature Shape >>> \", features[0].shape)\n",
    "print(\"File name >>> \", file_names[0])\n",
    "print(\"Annotation >>> \", encoder.inverse_transform(annotations[0].reshape(1,-1)))\n",
    "\n",
    "fig = plt.figure(figsize=(20, 7))\n",
    "\n",
    "file = 0\n",
    "ax = plt.subplot(231)\n",
    "img = librosa.display.specshow(features[file,:NUM_MEL_BANDS,:], x_axis='time', ax=ax, sr=SAMPLE_RATE, hop_length=HOP_SIZE)\n",
    "fig.colorbar(img, ax=ax)\n",
    "ax.set(title='MFCC for {}'.format(encoder.inverse_transform(annotations[file].reshape(1,-1))))\n",
    "\n",
    "file = 0\n",
    "ax = plt.subplot(232)\n",
    "img = librosa.display.specshow(features[file,NUM_MEL_BANDS:NUM_MEL_BANDS*2,:], x_axis='time', ax=ax, sr=SAMPLE_RATE, hop_length=HOP_SIZE)\n",
    "fig.colorbar(img, ax=ax)\n",
    "ax.set(title='MFCC Delta for {}'.format(encoder.inverse_transform(annotations[file].reshape(1,-1))))\n",
    "\n",
    "file = 0\n",
    "ax = plt.subplot(233)\n",
    "img = librosa.display.specshow(features[file,NUM_MEL_BANDS*2:,:], x_axis='time', ax=ax, sr=SAMPLE_RATE, hop_length=HOP_SIZE)\n",
    "fig.colorbar(img, ax=ax)\n",
    "ax.set(title='MFCC Acceleration for {}'.format(encoder.inverse_transform(annotations[file].reshape(1,-1))))\n",
    "\n",
    "\n",
    "file = 1\n",
    "ax = plt.subplot(234)\n",
    "img = librosa.display.specshow(features[file,:NUM_MEL_BANDS,:], x_axis='time', ax=ax, sr=SAMPLE_RATE, hop_length=HOP_SIZE)\n",
    "fig.colorbar(img, ax=ax)\n",
    "ax.set(title='MFCC for {}'.format(encoder.inverse_transform(annotations[file].reshape(1,-1))))\n",
    "\n",
    "file = 1\n",
    "ax = plt.subplot(235)\n",
    "img = librosa.display.specshow(features[file,NUM_MEL_BANDS*2:NUM_MEL_BANDS*3,:], x_axis='time', ax=ax, sr=SAMPLE_RATE, hop_length=HOP_SIZE)\n",
    "fig.colorbar(img, ax=ax)\n",
    "ax.set(title='MFCC Delta for {}'.format(encoder.inverse_transform(annotations[file].reshape(1,-1))))\n",
    "\n",
    "file = 1\n",
    "ax = plt.subplot(236)\n",
    "img = librosa.display.specshow(features[file,NUM_MEL_BANDS*2:,:], x_axis='time', ax=ax, sr=SAMPLE_RATE, hop_length=HOP_SIZE)\n",
    "fig.colorbar(img, ax=ax)\n",
    "ax.set(title='MFCC Acceleration for {}'.format(encoder.inverse_transform(annotations[file].reshape(1,-1))))\n",
    "\n",
    "plt.tight_layout()\n",
    "plt.show()"
   ]
  },
  {
   "cell_type": "markdown",
   "metadata": {
    "deletable": false,
    "editable": false,
    "nbgrader": {
     "cell_type": "markdown",
     "checksum": "26716c9a3ac9aed8ac37ba2ca335377f",
     "grade": false,
     "grade_id": "cell-8897b8345f16e1a0",
     "locked": true,
     "schema_version": 3,
     "solution": false,
     "task": false
    }
   },
   "source": [
    "### 1.2 Discussion\n",
    "\n",
    "Write down what choices you made regarding data structuring and feature extraction, feel free to refer to code/plots/etc. in cells above."
   ]
  },
  {
   "cell_type": "markdown",
   "metadata": {
    "deletable": false,
    "nbgrader": {
     "cell_type": "markdown",
     "checksum": "ddc8454a3763fdbcdeef3ef837ea2512",
     "grade": true,
     "grade_id": "cell-731075a98f8a1df9",
     "locked": false,
     "points": 10,
     "schema_version": 3,
     "solution": true,
     "task": false
    }
   },
   "source": [
    "In this approach I used the last assignments as well as the baseline solution provided by the challenge team as source of inspiration. Therefore I used 96 Mel bands (same as in Assignment 6) and added additionally the Delta and Acceleration features in order account for typical temporal changes in an acoustic scence."
   ]
  },
  {
   "cell_type": "markdown",
   "metadata": {
    "deletable": false,
    "editable": false,
    "nbgrader": {
     "cell_type": "markdown",
     "checksum": "3e8eead6171e0ae7b0fbe8ed315d27a9",
     "grade": false,
     "grade_id": "cell-d92c736eab25f84c",
     "locked": true,
     "schema_version": 3,
     "solution": false,
     "task": false
    }
   },
   "source": [
    "## Task 2: Machine Learning Approach (10 Points)\n",
    "\n",
    "Implement your audio scene classification method here. You are free to use any approach you find appropriate. As a hint: the easiest way to succeed is to adapt the neural network approach from assignment 6 (or 5), since convolutional neural networks have been shown to work very well for this task, and you can start with a running code base.\n",
    "\n",
    "### 2.1 Implementation"
   ]
  },
  {
   "cell_type": "markdown",
   "metadata": {},
   "source": [
    "In order to learn better features using a CNN the input data is split into 3 parts - the MFCC, the Delta and the Acceleration. For the MFCCs 5 convolutional layers a used to learn the features and for the delta and acceleration only 3 layers each are used. After each Conv Layer, Batchnormalization, Max-Pooling and Elu is applied."
   ]
  },
  {
   "cell_type": "code",
   "execution_count": 10,
   "metadata": {
    "deletable": false,
    "nbgrader": {
     "cell_type": "code",
     "checksum": "f9cdc802e009d79b15e0f1f39ca001c4",
     "grade": true,
     "grade_id": "cell-7dcea57a4c435adb",
     "locked": false,
     "points": 0,
     "schema_version": 3,
     "solution": true,
     "task": false
    }
   },
   "outputs": [],
   "source": [
    "import torch.nn as nn\n",
    "import torch.nn.functional as torch_func\n",
    "\n",
    "DEFAULT_NUM_CLASSES = annotations.shape[1]\n",
    "\n",
    "class AudioSceneClassificatinCNN(nn.Module):\n",
    "    def __init__(self, debug=False, num_classes=DEFAULT_NUM_CLASSES):\n",
    "        super(AudioSceneClassificatinCNN, self).__init__()\n",
    "        self.debug = debug # use the debug flag again to produce shape outputs in the forward function.\n",
    "        \n",
    "        #initialize modules for neural network\n",
    "        # YOUR CODE HERE\n",
    "        kernel_size = (3,3)\n",
    "        # train seperate networks for mfccs and mfcc delta\n",
    "        self.conv1_mfcc = nn.Conv2d(1, 64, kernel_size=kernel_size, padding=1)\n",
    "        self.conv1_mfcc_bn = nn.BatchNorm2d(64) \n",
    "        self.conv2_mfcc = nn.Conv2d(64, 128, kernel_size=kernel_size, padding=1)\n",
    "        self.conv2_mfcc_bn = nn.BatchNorm2d(128) \n",
    "        self.conv3_mfcc = nn.Conv2d(128, 128, kernel_size=kernel_size, padding=1)\n",
    "        self.conv3_mfcc_bn = nn.BatchNorm2d(128) \n",
    "        self.conv4_mfcc = nn.Conv2d(128, 128, kernel_size=kernel_size, padding=1)\n",
    "        self.conv4_mfcc_bn = nn.BatchNorm2d(128) \n",
    "        self.conv5_mfcc = nn.Conv2d(128, 64, kernel_size=kernel_size, padding=1)\n",
    "        self.conv5_mfcc_bn = nn.BatchNorm2d(64) \n",
    "        \n",
    "        self.conv1_delta = nn.Conv2d(1, 32, kernel_size=kernel_size, padding=1)\n",
    "        self.conv1_delta_bn = nn.BatchNorm2d(32) \n",
    "        self.conv2_delta = nn.Conv2d(32, 32, kernel_size=kernel_size, padding=1)\n",
    "        self.conv2_delta_bn = nn.BatchNorm2d(32) \n",
    "        self.conv3_delta = nn.Conv2d(32, 16, kernel_size=kernel_size, padding=1)\n",
    "        self.conv3_delta_bn = nn.BatchNorm2d(16) \n",
    "\n",
    "        self.conv1_acc = nn.Conv2d(1, 32, kernel_size=kernel_size, padding=1)\n",
    "        self.conv1_acc_bn = nn.BatchNorm2d(32) \n",
    "        self.conv2_acc = nn.Conv2d(32, 32, kernel_size=kernel_size, padding=1)\n",
    "        self.conv2_acc_bn = nn.BatchNorm2d(32) \n",
    "        self.conv3_acc = nn.Conv2d(32, 16, kernel_size=kernel_size, padding=1)\n",
    "        self.conv3_acc_bn = nn.BatchNorm2d(16) \n",
    "        \n",
    "        self.dense = nn.Linear(96, num_classes)\n",
    "\n",
    "    def forward(self, x):\n",
    "        x = x.unsqueeze(1)\n",
    "        if self.debug: print(x.shape)\n",
    "        # train seperate networks for mfccs and mfcc delta\n",
    "        x_mfcc = x[:,:,:48,:] \n",
    "        x_delta = x[:,:,48:96,:]\n",
    "        x_acc = x[:,:,96:,:]\n",
    "\n",
    "        x_mfcc = self.conv1_mfcc(x_mfcc)\n",
    "        x_mfcc = self.conv1_mfcc_bn(x_mfcc)\n",
    "        x_mfcc = torch_func.max_pool2d(x_mfcc, (2,4))\n",
    "        x_mfcc = torch_func.elu(x_mfcc)\n",
    "\n",
    "        x_mfcc = self.conv2_mfcc(x_mfcc)\n",
    "        x_mfcc = self.conv2_mfcc_bn(x_mfcc)\n",
    "        x_mfcc = torch_func.max_pool2d(x_mfcc, (2,4))\n",
    "        x_mfcc = torch_func.elu(x_mfcc)\n",
    "\n",
    "        x_mfcc = self.conv3_mfcc(x_mfcc)\n",
    "        x_mfcc = self.conv3_mfcc_bn(x_mfcc)\n",
    "        x_mfcc = torch_func.max_pool2d(x_mfcc, (2,4))\n",
    "        x_mfcc = torch_func.elu(x_mfcc)\n",
    "        \n",
    "        x_mfcc = self.conv4_mfcc(x_mfcc)\n",
    "        x_mfcc = self.conv4_mfcc_bn(x_mfcc)\n",
    "        x_mfcc = torch_func.max_pool2d(x_mfcc, (2,5))\n",
    "        x_mfcc = torch_func.elu(x_mfcc)\n",
    "        \n",
    "        x_mfcc = self.conv5_mfcc(x_mfcc)\n",
    "        x_mfcc = self.conv5_mfcc_bn(x_mfcc)\n",
    "        x_mfcc = torch_func.max_pool2d(x_mfcc, (3,4))\n",
    "        x_mfcc = torch_func.elu(x_mfcc)\n",
    "        if self.debug: print(x_mfcc.shape)\n",
    "            \n",
    "        x_delta = self.conv1_delta(x_delta)\n",
    "        x_delta = self.conv1_delta_bn(x_delta)\n",
    "        x_delta = torch_func.max_pool2d(x_delta, (4,5))\n",
    "        x_delta = torch_func.elu(x_delta)\n",
    "\n",
    "        x_delta = self.conv2_delta(x_delta)\n",
    "        x_delta = self.conv2_delta_bn(x_delta)\n",
    "        x_delta = torch_func.max_pool2d(x_delta, (4,15))\n",
    "        x_delta = torch_func.elu(x_delta)\n",
    "\n",
    "        x_delta = self.conv3_delta(x_delta)\n",
    "        x_delta = self.conv3_delta_bn(x_delta)\n",
    "        x_delta = torch_func.max_pool2d(x_delta, (3,20))\n",
    "        x_delta = torch_func.elu(x_delta)\n",
    "        \n",
    "        if self.debug: print(x_delta.shape)\n",
    "            \n",
    "        x_acc = self.conv1_acc(x_acc)\n",
    "        x_acc = self.conv1_acc_bn(x_acc)\n",
    "        x_acc = torch_func.max_pool2d(x_acc, (4,5))\n",
    "        x_acc = torch_func.elu(x_acc)\n",
    "\n",
    "        x_acc = self.conv2_acc(x_acc)\n",
    "        x_acc = self.conv2_acc_bn(x_acc)\n",
    "        x_acc = torch_func.max_pool2d(x_acc, (4,15))\n",
    "        x_acc = torch_func.elu(x_acc)\n",
    "\n",
    "        x_acc = self.conv3_acc(x_acc)\n",
    "        x_acc = self.conv3_acc_bn(x_acc)\n",
    "        x_acc = torch_func.max_pool2d(x_acc, (3,20))\n",
    "        x_acc = torch_func.elu(x_acc)\n",
    "        \n",
    "        if self.debug: print(x_acc.shape)\n",
    "            \n",
    "        x = torch.cat((x_mfcc, x_delta, x_acc), 1)\n",
    "        if self.debug: print(x.shape)\n",
    "        x = x.view(-1, 96)\n",
    "        y = self.dense(x)\n",
    "        y = torch_func.sigmoid(y)\n",
    "        return y"
   ]
  },
  {
   "cell_type": "code",
   "execution_count": 11,
   "metadata": {},
   "outputs": [
    {
     "name": "stdout",
     "output_type": "stream",
     "text": [
      "AudioSceneClassificatinCNN(\n",
      "  (conv1_mfcc): Conv2d(1, 64, kernel_size=(3, 3), stride=(1, 1), padding=(1, 1))\n",
      "  (conv1_mfcc_bn): BatchNorm2d(64, eps=1e-05, momentum=0.1, affine=True, track_running_stats=True)\n",
      "  (conv2_mfcc): Conv2d(64, 128, kernel_size=(3, 3), stride=(1, 1), padding=(1, 1))\n",
      "  (conv2_mfcc_bn): BatchNorm2d(128, eps=1e-05, momentum=0.1, affine=True, track_running_stats=True)\n",
      "  (conv3_mfcc): Conv2d(128, 128, kernel_size=(3, 3), stride=(1, 1), padding=(1, 1))\n",
      "  (conv3_mfcc_bn): BatchNorm2d(128, eps=1e-05, momentum=0.1, affine=True, track_running_stats=True)\n",
      "  (conv4_mfcc): Conv2d(128, 128, kernel_size=(3, 3), stride=(1, 1), padding=(1, 1))\n",
      "  (conv4_mfcc_bn): BatchNorm2d(128, eps=1e-05, momentum=0.1, affine=True, track_running_stats=True)\n",
      "  (conv5_mfcc): Conv2d(128, 64, kernel_size=(3, 3), stride=(1, 1), padding=(1, 1))\n",
      "  (conv5_mfcc_bn): BatchNorm2d(64, eps=1e-05, momentum=0.1, affine=True, track_running_stats=True)\n",
      "  (conv1_delta): Conv2d(1, 32, kernel_size=(3, 3), stride=(1, 1), padding=(1, 1))\n",
      "  (conv1_delta_bn): BatchNorm2d(32, eps=1e-05, momentum=0.1, affine=True, track_running_stats=True)\n",
      "  (conv2_delta): Conv2d(32, 32, kernel_size=(3, 3), stride=(1, 1), padding=(1, 1))\n",
      "  (conv2_delta_bn): BatchNorm2d(32, eps=1e-05, momentum=0.1, affine=True, track_running_stats=True)\n",
      "  (conv3_delta): Conv2d(32, 16, kernel_size=(3, 3), stride=(1, 1), padding=(1, 1))\n",
      "  (conv3_delta_bn): BatchNorm2d(16, eps=1e-05, momentum=0.1, affine=True, track_running_stats=True)\n",
      "  (conv1_acc): Conv2d(1, 32, kernel_size=(3, 3), stride=(1, 1), padding=(1, 1))\n",
      "  (conv1_acc_bn): BatchNorm2d(32, eps=1e-05, momentum=0.1, affine=True, track_running_stats=True)\n",
      "  (conv2_acc): Conv2d(32, 32, kernel_size=(3, 3), stride=(1, 1), padding=(1, 1))\n",
      "  (conv2_acc_bn): BatchNorm2d(32, eps=1e-05, momentum=0.1, affine=True, track_running_stats=True)\n",
      "  (conv3_acc): Conv2d(32, 16, kernel_size=(3, 3), stride=(1, 1), padding=(1, 1))\n",
      "  (conv3_acc_bn): BatchNorm2d(16, eps=1e-05, momentum=0.1, affine=True, track_running_stats=True)\n",
      "  (dense): Linear(in_features=96, out_features=15, bias=True)\n",
      ")\n"
     ]
    }
   ],
   "source": [
    "print(AudioSceneClassificatinCNN())"
   ]
  },
  {
   "cell_type": "markdown",
   "metadata": {
    "deletable": false,
    "editable": false,
    "nbgrader": {
     "cell_type": "markdown",
     "checksum": "5e33259a6ffe3e15b91447501f030449",
     "grade": false,
     "grade_id": "cell-ab9e2c0276de260d",
     "locked": true,
     "schema_version": 3,
     "solution": false,
     "task": false
    }
   },
   "source": [
    "### 2.2 Discussion\n",
    "Write down your choices and findings. Feel free to refer to code/plots/etc. in cells above."
   ]
  },
  {
   "cell_type": "markdown",
   "metadata": {},
   "source": [
    "As we can see in the output above the network consists of multiple convolutional layers all followed by Batchnormalization, Max-Pooling and the Elu Activation Function. The network is split into three parts since we would like to learn high level features for every feature set we extracted from the audio files (MFCC, MFCC Delta, MFCC Acceleration)"
   ]
  },
  {
   "cell_type": "markdown",
   "metadata": {
    "deletable": false,
    "editable": false,
    "nbgrader": {
     "cell_type": "markdown",
     "checksum": "a35c092f36b1e6d33394d975d7d17db0",
     "grade": false,
     "grade_id": "cell-84d189277e6b8b1b",
     "locked": true,
     "schema_version": 3,
     "solution": false,
     "task": false
    }
   },
   "source": [
    "## Task 3: Training, Inference, and Evaluation (10 Points)\n",
    "\n",
    "Depending on your choices for the machine learning model, implement the appropriate code to train and test it.\n",
    "For developing and training the model only use the development set. \n",
    "\n",
    "### 3.1 Implementation"
   ]
  },
  {
   "cell_type": "markdown",
   "metadata": {},
   "source": [
    "#### Dataloader\n",
    "\n",
    "In order to validate the model performance during training the data is split into a train a and a validation subset. The size of the validation set is 15% of the whole training data and the rest is used for model training"
   ]
  },
  {
   "cell_type": "code",
   "execution_count": 12,
   "metadata": {
    "deletable": false,
    "nbgrader": {
     "cell_type": "code",
     "checksum": "c16da7329328c197106d373ef3e5dc19",
     "grade": false,
     "grade_id": "cell-468de04cf5d3f6a3",
     "locked": false,
     "schema_version": 3,
     "solution": true,
     "task": false
    }
   },
   "outputs": [],
   "source": [
    "# Put your trainin and evaluation code in the cells below.\n",
    "# You can add additional cells below this one for structuring the notebook.\n",
    "# Feel free to add markdown cells / plots / tests / etc. if it helps your presentation.\n",
    "\n",
    "# YOUR CODE HERE\n",
    "from sklearn.model_selection import train_test_split\n",
    "# train and val split\n",
    "train_idxs, val_idxs = train_test_split(range(len(features)), test_size=0.15)"
   ]
  },
  {
   "cell_type": "code",
   "execution_count": 13,
   "metadata": {
    "deletable": false,
    "nbgrader": {
     "cell_type": "code",
     "checksum": "69c4e1a1d3cc6a4022365a409bd2c1c5",
     "grade": true,
     "grade_id": "cell-26d1e2ced94de1e0",
     "locked": false,
     "points": 10,
     "schema_version": 3,
     "solution": true,
     "task": false
    }
   },
   "outputs": [],
   "source": [
    "from torch.utils.data import Dataset\n",
    "\n",
    "class AudioScenceSet(Dataset):\n",
    "    def __init__(self, features, targets):\n",
    "        super(AudioScenceSet, self).__init__()\n",
    "        self.features = features.astype(np.float32)\n",
    "        self.targets = targets.astype(np.float32)\n",
    "        \n",
    "    def __len__(self):\n",
    "        return len(self.features)\n",
    "\n",
    "    def __getitem__(self, idx):\n",
    "        return(torch.tensor(self.features[idx]), torch.tensor(self.targets[idx]))"
   ]
  },
  {
   "cell_type": "code",
   "execution_count": 14,
   "metadata": {},
   "outputs": [],
   "source": [
    "train_feats = features[train_idxs]\n",
    "train_targs = annotations[train_idxs]\n",
    "\n",
    "val_feats = features[val_idxs]\n",
    "val_targs = annotations[val_idxs]"
   ]
  },
  {
   "cell_type": "markdown",
   "metadata": {},
   "source": [
    "#### Training"
   ]
  },
  {
   "cell_type": "markdown",
   "metadata": {},
   "source": [
    "For Training the functions of the last assignments are reused and enhanced to also show the accurary of the validation data after each epoch"
   ]
  },
  {
   "cell_type": "code",
   "execution_count": 15,
   "metadata": {},
   "outputs": [],
   "source": [
    "# helper functions for training - you can copy and modify from the last assignment\n",
    "\n",
    "from time import time as get_time\n",
    "from sklearn.metrics import accuracy_score\n",
    "\n",
    "def train_epoch_cnn(model, train_loader, optimizer, args):\n",
    "    # performs one epoch of training\n",
    "    \"\"\"\n",
    "    Training loop for one epoch of NN training.\n",
    "    Within one epoch, all the data is used once, we use mini-batch gradient descent.\n",
    "    :param model: The model to be trained\n",
    "    :param train_loader: Data provider\n",
    "    :param optimizer: Optimizer (Gradient descent update algorithm)\n",
    "    :param args: NN parameters for training and inference\n",
    "    :return:\n",
    "    \"\"\"\n",
    "    \n",
    "    model.train()  # set model to training mode (activate dropout layers for example)\n",
    "    t = get_time() # we measure the needed time\n",
    "    for batch_idx, (data, target) in enumerate(train_loader):  # iterate over training data\n",
    "        data, target = data.to(args.device), target.to(args.device)  # move data to device (GPU) if necessary\n",
    "        optimizer.zero_grad()  # reset optimizer\n",
    "        output = model(data)   # forward pass: calculate output of network for input\n",
    "        target = np.argmax(target, axis=1)\n",
    "        loss = torch_func.cross_entropy(output, target)  # calculate loss\n",
    "        loss.backward()  # backward pass: calculate gradients using automatic diff. and backprop.\n",
    "        optimizer.step()  # udpate parameters of network using our optimizer\n",
    "        cur_time = get_time()\n",
    "        # print some outputs if we reached our logging intervall\n",
    "        if cur_time - t > args.log_interval or batch_idx == len(train_loader)-1:  \n",
    "            print('[{}/{} ({:.0f}%)]\\tloss: {:.6f}, took {:.2f}s'.format(\n",
    "                       batch_idx * len(data), len(train_loader.dataset),\n",
    "                       100. * batch_idx / len(train_loader), loss.item(),cur_time - t))\n",
    "            t = cur_time\n",
    "\n",
    "def test_cnn(model, test_loader, args):\n",
    "    # runs inference over the test dataset and calculates overall loss (for validation and testing)\n",
    "    \"\"\"\n",
    "    Function wich iterates over test data (eval or test set) without performing updates and calculates loss.\n",
    "    :param model: The model to be tested\n",
    "    :param test_loader: Data provider\n",
    "    :param args: NN parameters for training and inference\n",
    "    :return: cumulative test loss\n",
    "    \"\"\"\n",
    "    model.eval()  # set model to inference mode (deactivate dropout layers for example)\n",
    "    predictions = []\n",
    "    targets = []\n",
    "    test_loss = 0  # init overall loss\n",
    "    with torch.no_grad():  # do not calculate gradients since we do not want to do updates\n",
    "        for data, target in test_loader:  # iterate over test data\n",
    "            data, target = data.to(args.device), target.to(args.device)  # move data to device \n",
    "            output = model(data) # forward pass\n",
    "            # claculate loss and add it to our cumulative loss\n",
    "            test_loss += torch_func.binary_cross_entropy(output, target, reduction='sum').item()\n",
    "            predictions.extend(np.argmax(output, axis=1).numpy())\n",
    "            targets.extend(np.argmax(target, axis=1).numpy())\n",
    "\n",
    "    test_loss /= len(test_loader.dataset)  # calc mean loss\n",
    "    print('Average eval loss: {:.4f}'.format(test_loss, len(test_loader.dataset)))\n",
    "    accuracy = round(accuracy_score(targets, predictions),2)\n",
    "    print(\"Average Evaluation Accuracy: {}\\n\".format(accuracy))\n",
    "    return test_loss\n",
    "\n",
    "\n",
    "def inference_cnn(model, data, args):\n",
    "    # runs inference over a single instance (for actual use of the model on real data)\n",
    "    \"\"\"\n",
    "    Function calculating the actual output of the network, given some input.\n",
    "    :param model: The network to be used\n",
    "    :param data: Data for which the output should be calculated\n",
    "    :param args: NN parameters for training and inference\n",
    "    :return: output of network\n",
    "    \"\"\"\n",
    "    model.eval()   # set model to inference mode\n",
    "    data = torch.from_numpy(data) \n",
    "    data = data.unsqueeze(0)\n",
    "    data = data.to(args.device) # move input to device\n",
    "    with torch.no_grad(): # do not calculate gradients\n",
    "        output = model(data).cpu()\n",
    "    return output.numpy().squeeze(0)"
   ]
  },
  {
   "cell_type": "code",
   "execution_count": 16,
   "metadata": {},
   "outputs": [],
   "source": [
    "# training hyper parameters: go with these defaults at first\n",
    "CNN_MODEL_NAME = 'scene_classifier_'\n",
    "\n",
    "# Helper class for neural network hyper-parameters\n",
    "# Do not change them until you have a working model\n",
    "class Args:\n",
    "    pass\n",
    "\n",
    "DEFAULT_ARGS = Args()\n",
    "# general params\n",
    "DEFAULT_ARGS.use_cuda = True\n",
    "DEFAULT_ARGS.seed = 1\n",
    "\n",
    "# architecture setup\n",
    "DEFAULT_ARGS.batch_size = 96\n",
    "DEFAULT_ARGS.out_num = DEFAULT_NUM_CLASSES\n",
    "\n",
    "# optimizer parameters\n",
    "DEFAULT_ARGS.lr = 0.01\n",
    "\n",
    "# training protocoll\n",
    "DEFAULT_ARGS.max_epochs = 1000\n",
    "DEFAULT_ARGS.patience = 3\n",
    "DEFAULT_ARGS.refinement = 2  # restart training after patience runs out with the best model, decrease lr by...\n",
    "DEFAULT_ARGS.lr_fac = 0.1    # ... the learning rate factor lr_fac: lr_new = lr_old*lr_fac\n",
    "DEFAULT_ARGS.log_interval = 10  # seconds"
   ]
  },
  {
   "cell_type": "code",
   "execution_count": 17,
   "metadata": {},
   "outputs": [],
   "source": [
    "# main training loop, start with your implementation from the last assignment and modify to accompany \n",
    "# the leraning rate scedule.\n",
    "from torch.optim import SGD\n",
    "import torch\n",
    "\n",
    "def train_cnn(smoke_test=False, load_model=False, args=DEFAULT_ARGS):\n",
    "    \"\"\"\n",
    "    Run CNN training using the datasets.\n",
    "    :param smoke_test: bool, run a quick pseudo training to check if everything works\n",
    "    :param load_model: bool or string, load the last trained model (if set to True), or the model in file (string)\n",
    "    :param args: hyperparameters for training\n",
    "    :return: trained model\n",
    "    \"\"\"\n",
    "    if smoke_test:  # set hyperparameters to run a quick pseudo training...\n",
    "        max_epochs = 2\n",
    "        use_train_feats = train_feats[:2]\n",
    "        use_valid_feats = val_feats[:2]\n",
    "        \n",
    "        use_train_targs = train_targs[:2]\n",
    "        use_valid_targs = val_targs[:2]\n",
    "        \n",
    "    else:\n",
    "        max_epochs = args.max_epochs\n",
    "        use_train_feats = train_feats\n",
    "        use_valid_feats = val_feats\n",
    "        \n",
    "        use_train_targs = train_targs\n",
    "        use_valid_targs = val_targs\n",
    "    \n",
    "    # 1) setup pytorch\n",
    "    use_cuda = args.use_cuda and torch.cuda.is_available()\n",
    "    torch.manual_seed(args.seed)\n",
    "    args.device = torch.device(\"cuda\" if use_cuda else \"cpu\")\n",
    "    # 2) create model and optimizer, use Adam\n",
    "    model = AudioSceneClassificatinCNN(debug=smoke_test).to(args.device)\n",
    "    optimizer = torch.optim.Adam(model.parameters(), lr=args.lr)\n",
    "    # 3) setup datasets and loaders for training, evaluation and testing\n",
    "    kwargs = {'num_workers': 4, 'pin_memory': True} if use_cuda else {'num_workers': 0}\n",
    "    train_loader = torch.utils.data.DataLoader(AudioScenceSet(use_train_feats, use_train_targs),\n",
    "                                               batch_size=args.batch_size, shuffle=True, **kwargs)\n",
    "    valid_loader = torch.utils.data.DataLoader(AudioScenceSet(use_valid_feats, use_valid_targs),\n",
    "                                               batch_size=args.batch_size, shuffle=False, **kwargs)\n",
    "    \n",
    "    # find model filename for last run, and next free filename for model\n",
    "    model_cnt = 0\n",
    "    new_model_file = os.path.join(CNN_MODEL_NAME + str(model_cnt) + '.model')\n",
    "    last_model_file = None\n",
    "    while os.path.exists(new_model_file):\n",
    "        model_cnt += 1\n",
    "        last_model_file = new_model_file\n",
    "        new_model_file = os.path.join(CNN_MODEL_NAME + str(model_cnt) + '.model')\n",
    "    if load_model is None or not load_model:  # let's train\n",
    "        # train model for max_epochs epochs, output loss after log_intervall seconds.\n",
    "        # for each epoch run once on validation set, \n",
    "        # write model to disk if validation loss decreased\n",
    "        # if validation loss increased, check for early stopping with patience and refinements\n",
    "        # after model is trained, perform a run on test set and output loss (don't forget to reload best model!)\n",
    "        \n",
    "        # YOUR CODE HERE\n",
    "        best_valid_loss = 9999.\n",
    "        cur_patience = args.patience  # we keep track of our patience here.\n",
    "        cur_refinement = args.refinement\n",
    "        cur_lr = args.lr\n",
    "        print('Training CNN...')\n",
    "        start_t = get_time()\n",
    "        for epoch in range(max_epochs):\n",
    "            train_epoch_cnn(model, train_loader, optimizer, args)\n",
    "            valid_loss = test_cnn(model, valid_loader, args)\n",
    "            if valid_loss < best_valid_loss:\n",
    "                if not smoke_test: torch.save(model.state_dict(), new_model_file)\n",
    "                best_valid_loss = valid_loss\n",
    "                cur_patience = args.patience\n",
    "            else:\n",
    "                if cur_patience <= 0:\n",
    "                    if cur_refinement <= 0:\n",
    "                        print(\"End of Training\")\n",
    "                        break\n",
    "                    else:\n",
    "                        print(\"Reload best Model and reduce Learning Rate\")\n",
    "                        lr_new = cur_lr*args.lr_fac\n",
    "                        for param_group in optimizer.param_groups:\n",
    "                            param_group['lr'] = lr_new\n",
    "                        model.load_state_dict(torch.load(new_model_file, map_location=args.device))\n",
    "                        cur_refinement -= 1\n",
    "                        cur_patience = args.patience\n",
    "                else:\n",
    "                    cur_patience -= 1\n",
    "                    print(\"Loss did not decrease (Patience: {})\\n\".format(cur_patience))\n",
    "                    \n",
    "                \n",
    "        print('Trainig took: {:.2f}s for {} epochs'.format(get_time()-start_t, epoch))\n",
    "        \n",
    "        \n",
    "    else:  # we should just load a model...\n",
    "        if not isinstance(load_model, str) or not os.path.exists(load_model):\n",
    "            load_model = last_model_file\n",
    "        if load_model is None or not os.path.exists(load_model):\n",
    "            print('Model file not found, unable to load...')\n",
    "        else:\n",
    "            model.load_state_dict(torch.load(load_model, map_location=args.device))\n",
    "            print(\"Model file loaded: {}\".format(load_model))\n",
    "    \n",
    "    return model\n"
   ]
  },
  {
   "cell_type": "code",
   "execution_count": 18,
   "metadata": {},
   "outputs": [
    {
     "name": "stdout",
     "output_type": "stream",
     "text": [
      "Training CNN...\n",
      "torch.Size([2, 1, 144, 1501])\n",
      "torch.Size([2, 64, 1, 1])\n",
      "torch.Size([2, 16, 1, 1])\n",
      "torch.Size([2, 16, 1, 1])\n",
      "torch.Size([2, 96, 1, 1])\n",
      "[0/2 (0%)]\tloss: 2.864457, took 0.44s\n",
      "torch.Size([2, 1, 144, 1501])\n",
      "torch.Size([2, 64, 1, 1])\n",
      "torch.Size([2, 16, 1, 1])\n",
      "torch.Size([2, 16, 1, 1])\n",
      "torch.Size([2, 96, 1, 1])\n",
      "Average eval loss: 88.9645\n",
      "Average Evaluation Accuracy: 0.5\n",
      "\n",
      "torch.Size([2, 1, 144, 1501])\n",
      "torch.Size([2, 64, 1, 1])\n",
      "torch.Size([2, 16, 1, 1])\n",
      "torch.Size([2, 16, 1, 1])\n",
      "torch.Size([2, 96, 1, 1])\n",
      "[0/2 (0%)]\tloss: 2.163806, took 0.47s\n",
      "torch.Size([2, 1, 144, 1501])\n",
      "torch.Size([2, 64, 1, 1])\n",
      "torch.Size([2, 16, 1, 1])\n",
      "torch.Size([2, 16, 1, 1])\n",
      "torch.Size([2, 96, 1, 1])\n",
      "Average eval loss: 55.2620\n",
      "Average Evaluation Accuracy: 0.5\n",
      "\n",
      "Trainig took: 1.50s for 1 epochs\n",
      "All tests successful!\n"
     ]
    }
   ],
   "source": [
    "# tests\n",
    "model = train_cnn(smoke_test=True)  # just a quick run to check everything is working\n",
    "\n",
    "print('All tests successful!')"
   ]
  },
  {
   "cell_type": "code",
   "execution_count": 19,
   "metadata": {},
   "outputs": [],
   "source": [
    "SUBMISSION = True"
   ]
  },
  {
   "cell_type": "code",
   "execution_count": 20,
   "metadata": {
    "scrolled": false
   },
   "outputs": [
    {
     "name": "stdout",
     "output_type": "stream",
     "text": [
      "Model file loaded: scene_classifier_1.model\n"
     ]
    }
   ],
   "source": [
    "if not SUBMISSION:\n",
    "    model = train_cnn()\n",
    "else:\n",
    "    model = train_cnn(load_model=True)\n",
    "    # you can set a specific model file for submission, if you trained multiple models using e.g.:\n",
    "    # load_model='best_cnn_adt.model'"
   ]
  },
  {
   "cell_type": "markdown",
   "metadata": {
    "deletable": false,
    "editable": false,
    "nbgrader": {
     "cell_type": "markdown",
     "checksum": "048bd4b50c53428c36a62e4b890b7e8e",
     "grade": false,
     "grade_id": "cell-ccd683a5d9bdab60",
     "locked": true,
     "schema_version": 3,
     "solution": false,
     "task": false
    }
   },
   "source": [
    "### 3.2 Discussion\n",
    "Write down your choices and findings. Feel free to refer to code/plots/etc. in cells above."
   ]
  },
  {
   "cell_type": "markdown",
   "metadata": {
    "deletable": false,
    "nbgrader": {
     "cell_type": "markdown",
     "checksum": "223698def8b0bceed9a04658906a5449",
     "grade": true,
     "grade_id": "cell-5e714093652f39f1",
     "locked": false,
     "points": 10,
     "schema_version": 3,
     "solution": true,
     "task": false
    }
   },
   "source": [
    "I left the default arguments for training and increased the batch size to 96 in order to reduce overfitting. Looking at the validation results one can see that the accuracy comes close to the baseline accuracy but is not as good as the baseline model. Training took about 2 hours with 70 Epochs."
   ]
  },
  {
   "cell_type": "markdown",
   "metadata": {
    "deletable": false,
    "editable": false,
    "nbgrader": {
     "cell_type": "markdown",
     "checksum": "601766b4505ab669f6845c81bb524bdb",
     "grade": false,
     "grade_id": "cell-88bd2a921720331f",
     "locked": true,
     "schema_version": 3,
     "solution": false,
     "task": false
    }
   },
   "source": [
    "## Task 4: Results and Conclusion (10 Points)\n",
    "\n",
    "Use the code cells below to calculate the final performance of the developed approach on the evaluation part of the dataset. "
   ]
  },
  {
   "cell_type": "code",
   "execution_count": 21,
   "metadata": {
    "deletable": false,
    "nbgrader": {
     "cell_type": "code",
     "checksum": "0d2afc1ec522e6c7029ef93392d6efc1",
     "grade": false,
     "grade_id": "cell-b761a1d4ff608dd8",
     "locked": false,
     "schema_version": 3,
     "solution": true,
     "task": false
    }
   },
   "outputs": [
    {
     "name": "stdout",
     "output_type": "stream",
     "text": [
      "389/390 files\r"
     ]
    }
   ],
   "source": [
    "\n",
    "test_features, test_file_names = process_audio_files(evaluation_audio_files, path_to_files=evaluation_audio_path)\n",
    "_, test_annotations = get_annotations(test_file_names, evaluation_annotation_file, encoder=encoder)\n",
    "\n",
    "\n",
    "\n",
    "test_loader = torch.utils.data.DataLoader(AudioScenceSet(test_features, test_annotations),\n",
    "                                               batch_size=100, shuffle=False)"
   ]
  },
  {
   "cell_type": "code",
   "execution_count": 22,
   "metadata": {},
   "outputs": [],
   "source": [
    "# Put the evaluation code on the evaulation dataset in these code cells.\n",
    "# You can add additional cells below this one for structuring the notebook.\n",
    "# Feel free to add markdown cells / plots / tests / etc. if it helps your presentation.\n",
    "\n",
    "# YOUR CODE HERE\n",
    "from sklearn.metrics import classification_report\n",
    "\n",
    "def run_evaluation(model, dataloader,  args=DEFAULT_ARGS):\n",
    "    model.eval()\n",
    "    predictions = []\n",
    "    targets = []\n",
    "    for batch_idx, (data, target) in enumerate(dataloader):  # iterate over  data\n",
    "        print(\"{}/{}\".format(batch_idx, len(dataloader)), end=\"\\r\")\n",
    "        data = data.to(args.device)\n",
    "        with torch.no_grad(): \n",
    "            output = model(data).cpu()\n",
    "        predictions.extend(np.argmax(output, axis=1).numpy())\n",
    "        targets.extend(np.argmax(target, axis=1).numpy())\n",
    "\n",
    "    report = classification_report(targets, predictions, target_names=list(encoder.categories_[0]))\n",
    "    return report"
   ]
  },
  {
   "cell_type": "code",
   "execution_count": 23,
   "metadata": {},
   "outputs": [
    {
     "name": "stdout",
     "output_type": "stream",
     "text": [
      "3/4\r"
     ]
    }
   ],
   "source": [
    "report = run_evaluation(model, test_loader)"
   ]
  },
  {
   "cell_type": "code",
   "execution_count": 24,
   "metadata": {
    "scrolled": false
   },
   "outputs": [
    {
     "name": "stdout",
     "output_type": "stream",
     "text": [
      "                  precision    recall  f1-score   support\n",
      "\n",
      "           beach       0.72      0.69      0.71        26\n",
      "             bus       0.73      0.42      0.54        26\n",
      " cafe/restaurant       0.61      0.77      0.68        26\n",
      "             car       0.59      0.65      0.62        26\n",
      "     city_center       0.96      0.96      0.96        26\n",
      "     forest_path       0.64      0.96      0.77        26\n",
      "   grocery_store       0.80      0.77      0.78        26\n",
      "            home       0.73      0.92      0.81        26\n",
      "         library       0.56      0.19      0.29        26\n",
      "   metro_station       0.55      0.46      0.50        26\n",
      "          office       0.82      0.88      0.85        26\n",
      "            park       0.69      0.85      0.76        26\n",
      "residential_area       0.57      0.31      0.40        26\n",
      "           train       0.37      0.27      0.31        26\n",
      "            tram       0.59      0.92      0.72        26\n",
      "\n",
      "        accuracy                           0.67       390\n",
      "       macro avg       0.66      0.67      0.65       390\n",
      "    weighted avg       0.66      0.67      0.65       390\n",
      "\n"
     ]
    }
   ],
   "source": [
    "print(report)"
   ]
  },
  {
   "cell_type": "markdown",
   "metadata": {
    "deletable": false,
    "editable": false,
    "nbgrader": {
     "cell_type": "markdown",
     "checksum": "015138419880c30f4d3225ccad9d237a",
     "grade": false,
     "grade_id": "cell-57187004bb828831",
     "locked": true,
     "schema_version": 3,
     "solution": false,
     "task": false
    }
   },
   "source": [
    "### Task 4.2 Discussion\n",
    "\n",
    "Compare your performance to the ones shown on the DCASE website, and discuss possible reasons for performance differences.\n",
    "Discuss your approach in the context of the other methods presented on the DCASE website."
   ]
  },
  {
   "cell_type": "markdown",
   "metadata": {
    "deletable": false,
    "nbgrader": {
     "cell_type": "markdown",
     "checksum": "b810b4c9b68f6160a2452681b0088168",
     "grade": true,
     "grade_id": "cell-0008272fc2e0c668",
     "locked": false,
     "points": 10,
     "schema_version": 3,
     "solution": true,
     "task": false
    }
   },
   "source": [
    "The approach outline above is a very simple approach to deal with audio scence classification using Deep Convolutional Neural Networks. Regarding Feature Selection the baseline approach provided with the challenge was used as a guideline. However, afterwards I followed the approach of the last assignments and tries to implement a Convolutional Neural Network, which should learn better features from the MFCC, MFCC Delta and Acceleration. However, the CNN approach did not even outperform the baseline approach described in the challenge. Nevertheless, this approach shows prominsig results, since nearly no Hyperparamtertuning was done (limited time resources and long training times). Therefore, I'm confident that this approach could lead to good results if the network parameters, network architecture as well as the MFCC Extraction Hyperparameters are tuned towards this specific problem. "
   ]
  },
  {
   "cell_type": "markdown",
   "metadata": {
    "deletable": false,
    "editable": false,
    "nbgrader": {
     "cell_type": "markdown",
     "checksum": "e44d4091c6bd0f098bf54d5008a60a4f",
     "grade": false,
     "grade_id": "cell-b6b5773d5570419c",
     "locked": true,
     "points": 10,
     "schema_version": 3,
     "solution": false,
     "task": true
    }
   },
   "source": [
    "## Task 5: Overall Presentation (10 Points)\n",
    "\n",
    "Make sure your notebook **clearly presents your chosen approach** to the problem solution. If necessary, revisit the individual tasks and **add plots, outputs, code comments**, etc. to clearly explain what is going on.\n",
    "\n",
    "You do not need to overdo it (no endless prints or plots that bloat the notebook) - less is sometimes more - as a goal think about your peers in the lecture and make it so that they could easily understand what is going on in the notebook. Exemplary plots with overall metrics are usually a nice compromise."
   ]
  },
  {
   "cell_type": "code",
   "execution_count": null,
   "metadata": {},
   "outputs": [],
   "source": []
  },
  {
   "cell_type": "markdown",
   "metadata": {},
   "source": [
    "## Congratulations, you are done!\n",
    "\n",
    "Reminder:\n",
    "Before you turn this assignment in, make sure everything runs as expected. First, **restart the kernel** (in the menubar, select Kernel$\\rightarrow$Restart) and then **run all cells** (in the menubar, select Cell$\\rightarrow$Run All)."
   ]
  }
 ],
 "metadata": {
  "kernelspec": {
   "display_name": "Python 3",
   "language": "python",
   "name": "python3"
  },
  "language_info": {
   "codemirror_mode": {
    "name": "ipython",
    "version": 3
   },
   "file_extension": ".py",
   "mimetype": "text/x-python",
   "name": "python",
   "nbconvert_exporter": "python",
   "pygments_lexer": "ipython3",
   "version": "3.8.6"
  }
 },
 "nbformat": 4,
 "nbformat_minor": 4
}
