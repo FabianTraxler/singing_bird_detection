{
 "cells": [
  {
   "cell_type": "markdown",
   "id": "a8744c42",
   "metadata": {},
   "source": [
    "# Data Generatioin\n",
    "\n",
    "This Notebook is used to download example calls for all Birds in the Boku Dataset from Xeno Canto Api.\n",
    "\n",
    "This data can then be used to train a classification model."
   ]
  },
  {
   "cell_type": "code",
   "execution_count": 8,
   "id": "c81458fb",
   "metadata": {},
   "outputs": [
    {
     "name": "stdout",
     "output_type": "stream",
     "text": [
      "62\n"
     ]
    }
   ],
   "source": [
    "from dataset import BokuBirdData\n",
    "import pandas as pd\n",
    "from tqdm import tqdm\n",
    "\n",
    "boku = BokuBirdData(\"./data\").dataset\n",
    "boku_species = [ s.lower() for s in boku[\"species\"].unique() if isinstance(s, str)]\n",
    "boku_species.sort()\n",
    "print(len(boku_species))"
   ]
  },
  {
   "cell_type": "markdown",
   "id": "ea0ec65d",
   "metadata": {},
   "source": [
    "## Xeno Canto"
   ]
  },
  {
   "cell_type": "code",
   "execution_count": 9,
   "id": "e339e681",
   "metadata": {},
   "outputs": [],
   "source": [
    "from xenocanto import xenocanto"
   ]
  },
  {
   "cell_type": "code",
   "execution_count": 10,
   "id": "a5ec0b12",
   "metadata": {},
   "outputs": [
    {
     "name": "stdout",
     "output_type": "stream",
     "text": [
      "Downloading Files for Species 61/62"
     ]
    }
   ],
   "source": [
    "speciesMapping = {}\n",
    "\n",
    "for i, species in enumerate(boku_species):\n",
    "    print(\"\\rDownloading Files for Species {}/{}\".format(i, len(boku_species)), end=\"\")\n",
    "    speciesMapping[species] = species.replace(\" \", \"-\").capitalize()\n",
    "    xenocanto.download([species], n_files=50)"
   ]
  },
  {
   "cell_type": "code",
   "execution_count": 11,
   "id": "6b1e3abb",
   "metadata": {},
   "outputs": [
    {
     "name": "stdout",
     "output_type": "stream",
     "text": [
      "No Audio Files available for Corvus-corone/cornix\n",
      "No Audio Files available for Corvus-monedula\n",
      "No Audio Files available for Loxia-curvirrostra\n",
      "No Audio Files available for Picus-canus-or-viridis\n"
     ]
    }
   ],
   "source": [
    "import os\n",
    "\n",
    "audio_path = \"./dataset/audio\"\n",
    "\n",
    "\n",
    "for species in boku_species:\n",
    "    species = speciesMapping[species]\n",
    "    if os.path.exists(os.path.join(audio_path, species)):\n",
    "        continue\n",
    "    else:\n",
    "        print(\"No Audio Files available for {}\".format(species))"
   ]
  },
  {
   "cell_type": "markdown",
   "id": "61157d6c",
   "metadata": {},
   "source": [
    "Search for different spellings of the birds in order to find them on xeno canto."
   ]
  },
  {
   "cell_type": "code",
   "execution_count": 12,
   "id": "7726591c",
   "metadata": {},
   "outputs": [
    {
     "name": "stdout",
     "output_type": "stream",
     "text": [
      "Downloading Files for Species Corvus corone\n",
      "Downloading Files for Species Coloeus monedula\n",
      "Downloading Files for Species loxia curvirostra\n",
      "Downloading Files for Species picus canus\n"
     ]
    }
   ],
   "source": [
    "import json\n",
    "\n",
    "speciesMapping[\"loxia curvirrostra\"] = \"loxia curvirostra\"\n",
    "speciesMapping[\"corvus monedula\"] = \"Coloeus monedula\"\n",
    "speciesMapping[\"picus canus or viridis\"] = \"picus canus\"\n",
    "speciesMapping[\"corvus corone/cornix\"] = \"Corvus corone\"\n",
    "\n",
    "changes_species = [\n",
    "    \"loxia curvirrostra\",\n",
    "    \"corvus monedula\",\n",
    "    \"picus canus or viridis\",\n",
    "    \"corvus corone/cornix\"\n",
    "]\n",
    "    \n",
    "with open(\"./dataset/species_mapping.json\", \"w\", encoding=\"utf8\") as f:\n",
    "    json.dump(speciesMapping, f)\n",
    "    \n",
    "for i, species in enumerate(boku_species):\n",
    "    if species in changes_species:\n",
    "        print(\"Downloading Files for Species {}\".format(speciesMapping[species]))\n",
    "        #enocanto.download([speciesMapping[species]], n_files=50)\n",
    "        speciesMapping[species] = speciesMapping[species].replace(\" \", \"-\").capitalize()"
   ]
  },
  {
   "cell_type": "code",
   "execution_count": 13,
   "id": "6b8af991",
   "metadata": {},
   "outputs": [
    {
     "name": "stdout",
     "output_type": "stream",
     "text": [
      "There are 52 Audio Files available for Acrocephalus-palustris\n",
      "There are 52 Audio Files available for Aegithalos-caudatus\n",
      "There are 52 Audio Files available for Anthus-trivialis\n",
      "There are 52 Audio Files available for Bubo-bubo\n",
      "There are 52 Audio Files available for Buteo-buteo\n",
      "There are 52 Audio Files available for Carduelis-carduelis\n",
      "There are 52 Audio Files available for Certhia-brachydactyla\n",
      "There are 52 Audio Files available for Chloris-chloris\n",
      "There are 52 Audio Files available for Coccothraustes-coccothraustes\n",
      "There are 52 Audio Files available for Columba-oenas\n",
      "There are 52 Audio Files available for Columba-palumbus\n",
      "There are 52 Audio Files available for Corvus-corax\n",
      "There are 53 Audio Files available for Corvus-corone\n",
      "There are 52 Audio Files available for Coloeus-monedula\n",
      "There are 52 Audio Files available for Coturnix-coturnix\n",
      "There are 52 Audio Files available for Cuculus-canorus\n",
      "There are 52 Audio Files available for Cyanistes-caeruleus\n",
      "There are 52 Audio Files available for Dendrocopos-major\n",
      "There are 52 Audio Files available for Dryocopus-martius\n",
      "There are 52 Audio Files available for Emberiza-calandra\n",
      "There are 52 Audio Files available for Emberiza-citrinella\n",
      "There are 52 Audio Files available for Erithacus-rubecula\n",
      "There are 52 Audio Files available for Fringilla-coelebs\n",
      "There are 52 Audio Files available for Garrulus-glandarius\n",
      "There are 52 Audio Files available for Hippolais-icterina\n",
      "There are 52 Audio Files available for Hirundo-rustica\n",
      "There are 52 Audio Files available for Jynx-torquilla\n",
      "There are 52 Audio Files available for Lanius-excubitor\n",
      "There are 52 Audio Files available for Linaria-cannabina\n",
      "There are 52 Audio Files available for Lophophanes-cristatus\n",
      "There are 53 Audio Files available for Loxia-curvirostra\n",
      "There are 52 Audio Files available for Luscinia-megarhynchos\n",
      "There are 52 Audio Files available for Merops-apiaster\n",
      "There are 52 Audio Files available for Motacilla-alba\n",
      "There are 52 Audio Files available for Muscicapa-striata\n",
      "There are 52 Audio Files available for Parus-major\n",
      "There are 52 Audio Files available for Passer-montanus\n",
      "There are 52 Audio Files available for Periparus-ater\n",
      "There are 52 Audio Files available for Phasianus-colchicus\n",
      "There are 52 Audio Files available for Phoenicurus-ochruros\n",
      "There are 52 Audio Files available for Phoenicurus-phoenicurus\n",
      "There are 52 Audio Files available for Phylloscopus-collybita\n",
      "There are 52 Audio Files available for Pica-pica\n",
      "There are 54 Audio Files available for Picus-canus\n",
      "There are 54 Audio Files available for Picus-canus\n",
      "There are 52 Audio Files available for Poecile-palustris\n",
      "There are 52 Audio Files available for Prunella-modularis\n",
      "There are 52 Audio Files available for Regulus-ignicapilla\n",
      "There are 52 Audio Files available for Saxicola-rubicola\n",
      "There are 52 Audio Files available for Serinus-serinus\n",
      "There are 52 Audio Files available for Sitta-europaea\n",
      "There are 52 Audio Files available for Spinus-spinus\n",
      "There are 52 Audio Files available for Strix-aluco\n",
      "There are 52 Audio Files available for Sturnus-vulgaris\n",
      "There are 52 Audio Files available for Sylvia-atricapilla\n",
      "There are 52 Audio Files available for Sylvia-communis\n",
      "There are 52 Audio Files available for Sylvia-curruca\n",
      "There are 52 Audio Files available for Troglodytes-troglodytes\n",
      "There are 52 Audio Files available for Turdus-merula\n",
      "There are 52 Audio Files available for Turdus-philomelos\n",
      "There are 52 Audio Files available for Turdus-pilaris\n",
      "There are 52 Audio Files available for Turdus-viscivorus\n"
     ]
    }
   ],
   "source": [
    "import os\n",
    "\n",
    "audio_path = \"./dataset/audio\"\n",
    "\n",
    "\n",
    "for species in boku_species:\n",
    "    species = speciesMapping[species]\n",
    "    if os.path.exists(os.path.join(audio_path, species)):\n",
    "        print(\"There are {} Audio Files available for {}\".format(len(os.listdir(os.path.join(audio_path, species))), species))\n",
    "    else:\n",
    "        print(\"No Audio Files available for {}\".format(species))"
   ]
  },
  {
   "cell_type": "code",
   "execution_count": 14,
   "id": "fd5c6188",
   "metadata": {},
   "outputs": [
    {
     "name": "stdout",
     "output_type": "stream",
     "text": [
      "Generate Dataset..\n"
     ]
    },
    {
     "ename": "NameError",
     "evalue": "name 'self' is not defined",
     "output_type": "error",
     "traceback": [
      "\u001b[0;31m---------------------------------------------------------------------------\u001b[0m",
      "\u001b[0;31mNameError\u001b[0m                                 Traceback (most recent call last)",
      "\u001b[0;32m/tmp/ipykernel_8602/3755698805.py\u001b[0m in \u001b[0;36m<module>\u001b[0;34m\u001b[0m\n\u001b[1;32m      4\u001b[0m \u001b[0mprint\u001b[0m\u001b[0;34m(\u001b[0m\u001b[0;34m\"Generate Dataset..\"\u001b[0m\u001b[0;34m)\u001b[0m\u001b[0;34m\u001b[0m\u001b[0;34m\u001b[0m\u001b[0m\n\u001b[1;32m      5\u001b[0m \u001b[0;34m\u001b[0m\u001b[0m\n\u001b[0;32m----> 6\u001b[0;31m \u001b[0;32mfor\u001b[0m \u001b[0mspecies\u001b[0m \u001b[0;32min\u001b[0m \u001b[0mtqdm\u001b[0m\u001b[0;34m(\u001b[0m\u001b[0mself\u001b[0m\u001b[0;34m.\u001b[0m\u001b[0mspecies\u001b[0m\u001b[0;34m)\u001b[0m\u001b[0;34m:\u001b[0m\u001b[0;34m\u001b[0m\u001b[0;34m\u001b[0m\u001b[0m\n\u001b[0m\u001b[1;32m      7\u001b[0m     \u001b[0mspecies_mapped\u001b[0m \u001b[0;34m=\u001b[0m \u001b[0mself\u001b[0m\u001b[0;34m.\u001b[0m\u001b[0mspecies_mapping\u001b[0m\u001b[0;34m[\u001b[0m\u001b[0mspecies\u001b[0m\u001b[0;34m]\u001b[0m\u001b[0;34m\u001b[0m\u001b[0;34m\u001b[0m\u001b[0m\n\u001b[1;32m      8\u001b[0m     \u001b[0;32mif\u001b[0m \u001b[0mos\u001b[0m\u001b[0;34m.\u001b[0m\u001b[0mpath\u001b[0m\u001b[0;34m.\u001b[0m\u001b[0mexists\u001b[0m\u001b[0;34m(\u001b[0m\u001b[0mos\u001b[0m\u001b[0;34m.\u001b[0m\u001b[0mpath\u001b[0m\u001b[0;34m.\u001b[0m\u001b[0mjoin\u001b[0m\u001b[0;34m(\u001b[0m\u001b[0mself\u001b[0m\u001b[0;34m.\u001b[0m\u001b[0mdata_path\u001b[0m\u001b[0;34m,\u001b[0m \u001b[0;34m\"audio\"\u001b[0m\u001b[0;34m,\u001b[0m \u001b[0mspecies_mapped\u001b[0m\u001b[0;34m)\u001b[0m\u001b[0;34m)\u001b[0m\u001b[0;34m:\u001b[0m\u001b[0;34m\u001b[0m\u001b[0;34m\u001b[0m\u001b[0m\n",
      "\u001b[0;31mNameError\u001b[0m: name 'self' is not defined"
     ]
    }
   ],
   "source": []
  },
  {
   "cell_type": "code",
   "execution_count": null,
   "id": "382b6d03",
   "metadata": {},
   "outputs": [],
   "source": []
  },
  {
   "cell_type": "code",
   "execution_count": null,
   "id": "73a43fcd",
   "metadata": {},
   "outputs": [],
   "source": []
  }
 ],
 "metadata": {
  "kernelspec": {
   "display_name": "singing bird",
   "language": "python",
   "name": "venv"
  },
  "language_info": {
   "codemirror_mode": {
    "name": "ipython",
    "version": 3
   },
   "file_extension": ".py",
   "mimetype": "text/x-python",
   "name": "python",
   "nbconvert_exporter": "python",
   "pygments_lexer": "ipython3",
   "version": "3.8.10"
  }
 },
 "nbformat": 4,
 "nbformat_minor": 5
}
