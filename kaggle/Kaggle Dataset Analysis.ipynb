{
 "cells": [
  {
   "cell_type": "markdown",
   "id": "1c8e599b",
   "metadata": {},
   "source": [
    "# Kaggle Dataset Analysis\n",
    "\n",
    "Analysis of the two Kaggle Datasets\n",
    "\n",
    "- Cornell Birdcall Identification: https://www.kaggle.com/competitions/birdsong-recognition/data\n",
    "- BirdCLEF 21: https://www.kaggle.com/competitions/birdclef-2021/data"
   ]
  },
  {
   "cell_type": "code",
   "execution_count": 1,
   "id": "b3d3566c",
   "metadata": {},
   "outputs": [],
   "source": [
    "import pandas as pd\n",
    "import ebird.api\n",
    "import sys\n",
    "\n",
    "sys.path.insert(0, \"/home/fabian/Desktop/Uni/singing_bird_detection\")\n",
    "from dataset import BirdData\n"
   ]
  },
  {
   "cell_type": "code",
   "execution_count": 2,
   "id": "1b97c0a4",
   "metadata": {},
   "outputs": [],
   "source": [
    "cor = pd.read_csv(\"Cornell.csv\")\n",
    "clef = pd.read_csv(\"BirdCLEF.csv\")\n",
    "\n",
    "boku = BirdData(\"../data\").dataset"
   ]
  },
  {
   "cell_type": "code",
   "execution_count": 16,
   "id": "8a14a948",
   "metadata": {},
   "outputs": [
    {
     "name": "stdout",
     "output_type": "stream",
     "text": [
      "Number of species in Boku Dataset >>> 62\n"
     ]
    }
   ],
   "source": [
    "boku_species = [ s.lower() for s in boku[\"species\"].unique() if isinstance(s, str)]\n",
    "boku_species.sort()\n",
    "print(\"Number of species in Boku Dataset >>>\", len(boku_species))"
   ]
  },
  {
   "cell_type": "code",
   "execution_count": 17,
   "id": "7a544519",
   "metadata": {},
   "outputs": [
    {
     "name": "stdout",
     "output_type": "stream",
     "text": [
      "Number of species in Cornell Dataset >>> 264\n"
     ]
    }
   ],
   "source": [
    "cor_species = [ s.lower() for s in cor[\"species\"].unique()]\n",
    "cor_species.sort()\n",
    "print(\"Number of species in Cornell Dataset >>>\", len(cor_species))"
   ]
  },
  {
   "cell_type": "code",
   "execution_count": 18,
   "id": "6104f737",
   "metadata": {},
   "outputs": [
    {
     "name": "stdout",
     "output_type": "stream",
     "text": [
      "Number of species in BirdCLEF Dataset >>> 397\n"
     ]
    }
   ],
   "source": [
    "clef_species = [ s.lower() for s in clef[\"scientific_name\"].unique()]\n",
    "clef_species.sort()\n",
    "print(\"Number of species in BirdCLEF Dataset >>>\", len(clef_species))"
   ]
  },
  {
   "cell_type": "code",
   "execution_count": 19,
   "id": "ddbf7f67",
   "metadata": {},
   "outputs": [
    {
     "data": {
      "text/plain": [
       "{'corvus corax', 'hirundo rustica', 'sturnus vulgaris'}"
      ]
     },
     "execution_count": 19,
     "metadata": {},
     "output_type": "execute_result"
    }
   ],
   "source": [
    "set(boku_species).intersection(clef_species)"
   ]
  },
  {
   "cell_type": "code",
   "execution_count": 20,
   "id": "6732fe38",
   "metadata": {},
   "outputs": [
    {
     "data": {
      "text/plain": [
       "set()"
      ]
     },
     "execution_count": 20,
     "metadata": {},
     "output_type": "execute_result"
    }
   ],
   "source": [
    "set(boku_species).intersection(cor_species)"
   ]
  },
  {
   "cell_type": "code",
   "execution_count": null,
   "id": "4337067f",
   "metadata": {},
   "outputs": [],
   "source": []
  }
 ],
 "metadata": {
  "kernelspec": {
   "display_name": "singing bird",
   "language": "python",
   "name": "venv"
  },
  "language_info": {
   "codemirror_mode": {
    "name": "ipython",
    "version": 3
   },
   "file_extension": ".py",
   "mimetype": "text/x-python",
   "name": "python",
   "nbconvert_exporter": "python",
   "pygments_lexer": "ipython3",
   "version": "3.8.10"
  }
 },
 "nbformat": 4,
 "nbformat_minor": 5
}
